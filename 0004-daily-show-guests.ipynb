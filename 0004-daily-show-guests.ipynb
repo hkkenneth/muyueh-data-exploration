{
 "cells": [
  {
   "cell_type": "markdown",
   "metadata": {},
   "source": [
    "Inspired by https://github.com/muyueh/Data_Exploration"
   ]
  },
  {
   "cell_type": "markdown",
   "metadata": {},
   "source": [
    "# Daily Show Guests (data: fivethirtyeight)"
   ]
  },
  {
   "cell_type": "code",
   "execution_count": 1,
   "metadata": {
    "collapsed": false
   },
   "outputs": [],
   "source": [
    "import numpy as np\n",
    "import pandas as pd\n",
    "import matplotlib as matplotlib\n",
    "import matplotlib.pyplot as plt\n",
    "import seaborn as sns"
   ]
  },
  {
   "cell_type": "code",
   "execution_count": 2,
   "metadata": {
    "collapsed": false
   },
   "outputs": [
    {
     "data": {
      "text/html": [
       "<table><th>'color'</th><tr><td>'#30a2da'</td></tr><tr><td>'#fc4f30'</td></tr><tr><td>'#e5ae38'</td></tr><tr><td>'#6d904f'</td></tr><tr><td>'#8b8b8b'</td></tr></table>"
      ],
      "text/plain": [
       "cycler('color', ['#30a2da', '#fc4f30', '#e5ae38', '#6d904f', '#8b8b8b'])"
      ]
     },
     "execution_count": 2,
     "metadata": {},
     "output_type": "execute_result"
    }
   ],
   "source": [
    "%matplotlib inline\n",
    "plt.style.use('fivethirtyeight')\n",
    "plt.style.library['fivethirtyeight']['axes.prop_cycle']"
   ]
  },
  {
   "cell_type": "code",
   "execution_count": 3,
   "metadata": {
    "collapsed": true
   },
   "outputs": [],
   "source": [
    "guests = pd.read_csv('./data/daily-show-guests/daily_show_guests.csv')"
   ]
  },
  {
   "cell_type": "markdown",
   "metadata": {},
   "source": [
    "http://pandas.pydata.org/pandas-docs/stable/basics.html"
   ]
  },
  {
   "cell_type": "code",
   "execution_count": 4,
   "metadata": {
    "collapsed": false
   },
   "outputs": [
    {
     "data": {
      "text/html": [
       "<div>\n",
       "<table border=\"1\" class=\"dataframe\">\n",
       "  <thead>\n",
       "    <tr style=\"text-align: right;\">\n",
       "      <th></th>\n",
       "      <th>YEAR</th>\n",
       "      <th>GoogleKnowlege_Occupation</th>\n",
       "      <th>Show</th>\n",
       "      <th>Group</th>\n",
       "      <th>Raw_Guest_List</th>\n",
       "    </tr>\n",
       "  </thead>\n",
       "  <tbody>\n",
       "    <tr>\n",
       "      <th>0</th>\n",
       "      <td>1999</td>\n",
       "      <td>actor</td>\n",
       "      <td>1/11/99</td>\n",
       "      <td>Acting</td>\n",
       "      <td>Michael J. Fox</td>\n",
       "    </tr>\n",
       "    <tr>\n",
       "      <th>1</th>\n",
       "      <td>1999</td>\n",
       "      <td>Comedian</td>\n",
       "      <td>1/12/99</td>\n",
       "      <td>Comedy</td>\n",
       "      <td>Sandra Bernhard</td>\n",
       "    </tr>\n",
       "    <tr>\n",
       "      <th>2</th>\n",
       "      <td>1999</td>\n",
       "      <td>television actress</td>\n",
       "      <td>1/13/99</td>\n",
       "      <td>Acting</td>\n",
       "      <td>Tracey Ullman</td>\n",
       "    </tr>\n",
       "    <tr>\n",
       "      <th>3</th>\n",
       "      <td>1999</td>\n",
       "      <td>film actress</td>\n",
       "      <td>1/14/99</td>\n",
       "      <td>Acting</td>\n",
       "      <td>Gillian Anderson</td>\n",
       "    </tr>\n",
       "    <tr>\n",
       "      <th>4</th>\n",
       "      <td>1999</td>\n",
       "      <td>actor</td>\n",
       "      <td>1/18/99</td>\n",
       "      <td>Acting</td>\n",
       "      <td>David Alan Grier</td>\n",
       "    </tr>\n",
       "  </tbody>\n",
       "</table>\n",
       "</div>"
      ],
      "text/plain": [
       "   YEAR GoogleKnowlege_Occupation     Show   Group    Raw_Guest_List\n",
       "0  1999                     actor  1/11/99  Acting    Michael J. Fox\n",
       "1  1999                  Comedian  1/12/99  Comedy   Sandra Bernhard\n",
       "2  1999        television actress  1/13/99  Acting     Tracey Ullman\n",
       "3  1999              film actress  1/14/99  Acting  Gillian Anderson\n",
       "4  1999                     actor  1/18/99  Acting  David Alan Grier"
      ]
     },
     "execution_count": 4,
     "metadata": {},
     "output_type": "execute_result"
    }
   ],
   "source": [
    "guests.head(5)"
   ]
  },
  {
   "cell_type": "code",
   "execution_count": 5,
   "metadata": {
    "collapsed": false
   },
   "outputs": [
    {
     "data": {
      "text/html": [
       "<div>\n",
       "<table border=\"1\" class=\"dataframe\">\n",
       "  <thead>\n",
       "    <tr style=\"text-align: right;\">\n",
       "      <th></th>\n",
       "      <th>YEAR</th>\n",
       "      <th>GoogleKnowlege_Occupation</th>\n",
       "      <th>Show</th>\n",
       "      <th>Group</th>\n",
       "      <th>Raw_Guest_List</th>\n",
       "    </tr>\n",
       "  </thead>\n",
       "  <tbody>\n",
       "    <tr>\n",
       "      <th>2690</th>\n",
       "      <td>2015</td>\n",
       "      <td>stand-up comedian</td>\n",
       "      <td>8/3/15</td>\n",
       "      <td>Comedy</td>\n",
       "      <td>Amy Schumer</td>\n",
       "    </tr>\n",
       "    <tr>\n",
       "      <th>2691</th>\n",
       "      <td>2015</td>\n",
       "      <td>actor</td>\n",
       "      <td>8/4/15</td>\n",
       "      <td>Acting</td>\n",
       "      <td>Denis Leary</td>\n",
       "    </tr>\n",
       "    <tr>\n",
       "      <th>2692</th>\n",
       "      <td>2015</td>\n",
       "      <td>comedian</td>\n",
       "      <td>8/5/15</td>\n",
       "      <td>Comedy</td>\n",
       "      <td>Louis C.K.</td>\n",
       "    </tr>\n",
       "  </tbody>\n",
       "</table>\n",
       "</div>"
      ],
      "text/plain": [
       "      YEAR GoogleKnowlege_Occupation    Show   Group Raw_Guest_List\n",
       "2690  2015         stand-up comedian  8/3/15  Comedy    Amy Schumer\n",
       "2691  2015                     actor  8/4/15  Acting    Denis Leary\n",
       "2692  2015                  comedian  8/5/15  Comedy     Louis C.K."
      ]
     },
     "execution_count": 5,
     "metadata": {},
     "output_type": "execute_result"
    }
   ],
   "source": [
    "guests.tail(3)"
   ]
  },
  {
   "cell_type": "code",
   "execution_count": 10,
   "metadata": {
    "collapsed": false
   },
   "outputs": [],
   "source": [
    "from numpy import random"
   ]
  },
  {
   "cell_type": "code",
   "execution_count": 33,
   "metadata": {
    "collapsed": false
   },
   "outputs": [],
   "source": [
    "samp = random.choice(guests.shape[0], min(int(guests.shape[0] * 0.1), 10), replace=False)"
   ]
  },
  {
   "cell_type": "code",
   "execution_count": 35,
   "metadata": {
    "collapsed": false
   },
   "outputs": [],
   "source": [
    "samp.sort()"
   ]
  },
  {
   "cell_type": "code",
   "execution_count": 36,
   "metadata": {
    "collapsed": false
   },
   "outputs": [
    {
     "data": {
      "text/html": [
       "<div>\n",
       "<table border=\"1\" class=\"dataframe\">\n",
       "  <thead>\n",
       "    <tr style=\"text-align: right;\">\n",
       "      <th></th>\n",
       "      <th>YEAR</th>\n",
       "      <th>GoogleKnowlege_Occupation</th>\n",
       "      <th>Show</th>\n",
       "      <th>Group</th>\n",
       "      <th>Raw_Guest_List</th>\n",
       "    </tr>\n",
       "  </thead>\n",
       "  <tbody>\n",
       "    <tr>\n",
       "      <th>17</th>\n",
       "      <td>1999</td>\n",
       "      <td>comedian</td>\n",
       "      <td>10/26/99</td>\n",
       "      <td>Comedy</td>\n",
       "      <td>Louie Anderson</td>\n",
       "    </tr>\n",
       "    <tr>\n",
       "      <th>193</th>\n",
       "      <td>2000</td>\n",
       "      <td>journalist</td>\n",
       "      <td>10/31/00</td>\n",
       "      <td>Media</td>\n",
       "      <td>David Frost</td>\n",
       "    </tr>\n",
       "    <tr>\n",
       "      <th>292</th>\n",
       "      <td>2000</td>\n",
       "      <td>actor</td>\n",
       "      <td>6/29/00</td>\n",
       "      <td>Acting</td>\n",
       "      <td>John C. Reilly</td>\n",
       "    </tr>\n",
       "    <tr>\n",
       "      <th>923</th>\n",
       "      <td>2004</td>\n",
       "      <td>actor</td>\n",
       "      <td>6/14/04</td>\n",
       "      <td>Acting</td>\n",
       "      <td>Stanley Tucci</td>\n",
       "    </tr>\n",
       "    <tr>\n",
       "      <th>1250</th>\n",
       "      <td>2006</td>\n",
       "      <td>American Political figure</td>\n",
       "      <td>6/13/06</td>\n",
       "      <td>Politician</td>\n",
       "      <td>Ken Mehlman</td>\n",
       "    </tr>\n",
       "    <tr>\n",
       "      <th>1544</th>\n",
       "      <td>2008</td>\n",
       "      <td>university professor</td>\n",
       "      <td>5/12/08</td>\n",
       "      <td>Academic</td>\n",
       "      <td>Douglas J. Feith</td>\n",
       "    </tr>\n",
       "    <tr>\n",
       "      <th>1602</th>\n",
       "      <td>2008</td>\n",
       "      <td>film actor</td>\n",
       "      <td>9/24/08</td>\n",
       "      <td>Acting</td>\n",
       "      <td>Aaron Eckhart</td>\n",
       "    </tr>\n",
       "    <tr>\n",
       "      <th>1843</th>\n",
       "      <td>2010</td>\n",
       "      <td>actor</td>\n",
       "      <td>3/17/10</td>\n",
       "      <td>Acting</td>\n",
       "      <td>Snoop Dogg</td>\n",
       "    </tr>\n",
       "    <tr>\n",
       "      <th>1943</th>\n",
       "      <td>2011</td>\n",
       "      <td>Baseball player</td>\n",
       "      <td>1/19/11</td>\n",
       "      <td>Athletics</td>\n",
       "      <td>Paul Clemens</td>\n",
       "    </tr>\n",
       "    <tr>\n",
       "      <th>2507</th>\n",
       "      <td>2014</td>\n",
       "      <td>actor</td>\n",
       "      <td>3/26/14</td>\n",
       "      <td>Acting</td>\n",
       "      <td>Jude Law</td>\n",
       "    </tr>\n",
       "  </tbody>\n",
       "</table>\n",
       "</div>"
      ],
      "text/plain": [
       "      YEAR  GoogleKnowlege_Occupation      Show       Group    Raw_Guest_List\n",
       "17    1999                   comedian  10/26/99      Comedy    Louie Anderson\n",
       "193   2000                 journalist  10/31/00       Media       David Frost\n",
       "292   2000                      actor   6/29/00      Acting    John C. Reilly\n",
       "923   2004                      actor   6/14/04      Acting     Stanley Tucci\n",
       "1250  2006  American Political figure   6/13/06  Politician       Ken Mehlman\n",
       "1544  2008       university professor   5/12/08    Academic  Douglas J. Feith\n",
       "1602  2008                 film actor   9/24/08      Acting     Aaron Eckhart\n",
       "1843  2010                      actor   3/17/10      Acting        Snoop Dogg\n",
       "1943  2011            Baseball player   1/19/11   Athletics      Paul Clemens\n",
       "2507  2014                      actor   3/26/14      Acting          Jude Law"
      ]
     },
     "execution_count": 36,
     "metadata": {},
     "output_type": "execute_result"
    }
   ],
   "source": [
    "guests.iloc[samp]"
   ]
  },
  {
   "cell_type": "code",
   "execution_count": 37,
   "metadata": {
    "collapsed": false
   },
   "outputs": [
    {
     "data": {
      "text/plain": [
       "RangeIndex(start=0, stop=2693, step=1)"
      ]
     },
     "execution_count": 37,
     "metadata": {},
     "output_type": "execute_result"
    }
   ],
   "source": [
    "guests.index"
   ]
  },
  {
   "cell_type": "code",
   "execution_count": 38,
   "metadata": {
    "collapsed": false
   },
   "outputs": [
    {
     "data": {
      "text/plain": [
       "Index(['YEAR', 'GoogleKnowlege_Occupation', 'Show', 'Group', 'Raw_Guest_List'], dtype='object')"
      ]
     },
     "execution_count": 38,
     "metadata": {},
     "output_type": "execute_result"
    }
   ],
   "source": [
    "guests.columns"
   ]
  },
  {
   "cell_type": "code",
   "execution_count": 39,
   "metadata": {
    "collapsed": false
   },
   "outputs": [
    {
     "data": {
      "text/html": [
       "<div>\n",
       "<table border=\"1\" class=\"dataframe\">\n",
       "  <thead>\n",
       "    <tr style=\"text-align: right;\">\n",
       "      <th></th>\n",
       "      <th>YEAR</th>\n",
       "    </tr>\n",
       "  </thead>\n",
       "  <tbody>\n",
       "    <tr>\n",
       "      <th>count</th>\n",
       "      <td>2693.000000</td>\n",
       "    </tr>\n",
       "    <tr>\n",
       "      <th>mean</th>\n",
       "      <td>2006.816190</td>\n",
       "    </tr>\n",
       "    <tr>\n",
       "      <th>std</th>\n",
       "      <td>4.828177</td>\n",
       "    </tr>\n",
       "    <tr>\n",
       "      <th>min</th>\n",
       "      <td>1999.000000</td>\n",
       "    </tr>\n",
       "    <tr>\n",
       "      <th>25%</th>\n",
       "      <td>2003.000000</td>\n",
       "    </tr>\n",
       "    <tr>\n",
       "      <th>50%</th>\n",
       "      <td>2007.000000</td>\n",
       "    </tr>\n",
       "    <tr>\n",
       "      <th>75%</th>\n",
       "      <td>2011.000000</td>\n",
       "    </tr>\n",
       "    <tr>\n",
       "      <th>max</th>\n",
       "      <td>2015.000000</td>\n",
       "    </tr>\n",
       "  </tbody>\n",
       "</table>\n",
       "</div>"
      ],
      "text/plain": [
       "              YEAR\n",
       "count  2693.000000\n",
       "mean   2006.816190\n",
       "std       4.828177\n",
       "min    1999.000000\n",
       "25%    2003.000000\n",
       "50%    2007.000000\n",
       "75%    2011.000000\n",
       "max    2015.000000"
      ]
     },
     "execution_count": 39,
     "metadata": {},
     "output_type": "execute_result"
    }
   ],
   "source": [
    "guests.describe()"
   ]
  },
  {
   "cell_type": "code",
   "execution_count": 50,
   "metadata": {
    "collapsed": false
   },
   "outputs": [
    {
     "data": {
      "text/plain": [
       "2000    169\n",
       "2003    166\n",
       "2013    166\n",
       "1999    166\n",
       "2010    165\n",
       "2012    164\n",
       "2008    164\n",
       "2004    164\n",
       "2009    163\n",
       "2011    163\n",
       "2014    163\n",
       "2005    162\n",
       "2006    161\n",
       "2002    159\n",
       "2001    157\n",
       "2007    141\n",
       "2015    100\n",
       "Name: YEAR, dtype: int64"
      ]
     },
     "execution_count": 50,
     "metadata": {},
     "output_type": "execute_result"
    }
   ],
   "source": [
    "guests['YEAR'].value_counts()"
   ]
  },
  {
   "cell_type": "code",
   "execution_count": 51,
   "metadata": {
    "collapsed": false
   },
   "outputs": [
    {
     "data": {
      "text/plain": [
       "actor                596\n",
       "actress              271\n",
       "journalist           180\n",
       "author               102\n",
       "Journalist            72\n",
       "comedian              64\n",
       "us senator            50\n",
       "Author                48\n",
       "television host       39\n",
       "Comedian              39\n",
       "writer                30\n",
       "stand-up comedian     26\n",
       "Writer                22\n",
       "professor             22\n",
       "commentator           20\n",
       "Name: GoogleKnowlege_Occupation, dtype: int64"
      ]
     },
     "execution_count": 51,
     "metadata": {},
     "output_type": "execute_result"
    }
   ],
   "source": [
    "guests['GoogleKnowlege_Occupation'].value_counts().head(15)"
   ]
  },
  {
   "cell_type": "code",
   "execution_count": 52,
   "metadata": {
    "collapsed": false
   },
   "outputs": [
    {
     "data": {
      "text/plain": [
       "Acting            930\n",
       "Media             751\n",
       "Politician        308\n",
       "Comedy            150\n",
       "Musician          123\n",
       "Academic          103\n",
       "Athletics          52\n",
       "Misc               45\n",
       "Government         40\n",
       "Political Aide     36\n",
       "Science            28\n",
       "Business           25\n",
       "Advocacy           24\n",
       "Consultant         18\n",
       "Military           16\n",
       "Name: Group, dtype: int64"
      ]
     },
     "execution_count": 52,
     "metadata": {},
     "output_type": "execute_result"
    }
   ],
   "source": [
    "guests['Group'].value_counts().head(15)"
   ]
  },
  {
   "cell_type": "code",
   "execution_count": 54,
   "metadata": {
    "collapsed": false
   },
   "outputs": [
    {
     "data": {
      "text/plain": [
       "False    2662\n",
       "True       31\n",
       "Name: Group, dtype: int64"
      ]
     },
     "execution_count": 54,
     "metadata": {},
     "output_type": "execute_result"
    }
   ],
   "source": [
    "guests['Group'].isnull().value_counts()"
   ]
  },
  {
   "cell_type": "code",
   "execution_count": 55,
   "metadata": {
    "collapsed": false
   },
   "outputs": [
    {
     "data": {
      "text/plain": [
       "False    2693\n",
       "Name: Raw_Guest_List, dtype: int64"
      ]
     },
     "execution_count": 55,
     "metadata": {},
     "output_type": "execute_result"
    }
   ],
   "source": [
    "guests['Raw_Guest_List'].isnull().value_counts()"
   ]
  },
  {
   "cell_type": "markdown",
   "metadata": {},
   "source": [
    "### Check for null"
   ]
  },
  {
   "cell_type": "code",
   "execution_count": 56,
   "metadata": {
    "collapsed": false
   },
   "outputs": [
    {
     "data": {
      "text/html": [
       "<div>\n",
       "<table border=\"1\" class=\"dataframe\">\n",
       "  <thead>\n",
       "    <tr style=\"text-align: right;\">\n",
       "      <th></th>\n",
       "      <th>YEAR</th>\n",
       "      <th>GoogleKnowlege_Occupation</th>\n",
       "      <th>Show</th>\n",
       "      <th>Group</th>\n",
       "      <th>Raw_Guest_List</th>\n",
       "    </tr>\n",
       "  </thead>\n",
       "  <tbody>\n",
       "    <tr>\n",
       "      <th>39</th>\n",
       "      <td>1999</td>\n",
       "      <td>NaN</td>\n",
       "      <td>12/15/99</td>\n",
       "      <td>NaN</td>\n",
       "      <td>Greatest Millennium Special</td>\n",
       "    </tr>\n",
       "    <tr>\n",
       "      <th>129</th>\n",
       "      <td>1999</td>\n",
       "      <td>NaN</td>\n",
       "      <td>7/21/99</td>\n",
       "      <td>NaN</td>\n",
       "      <td>Third Anniversary Special</td>\n",
       "    </tr>\n",
       "    <tr>\n",
       "      <th>149</th>\n",
       "      <td>1999</td>\n",
       "      <td>NaN</td>\n",
       "      <td>8/30/99</td>\n",
       "      <td>NaN</td>\n",
       "      <td>The Daily Show Summer Spectacular</td>\n",
       "    </tr>\n",
       "    <tr>\n",
       "      <th>202</th>\n",
       "      <td>2000</td>\n",
       "      <td>NaN</td>\n",
       "      <td>11/20/00</td>\n",
       "      <td>NaN</td>\n",
       "      <td>Tales of Survival with Vance DeGeneres</td>\n",
       "    </tr>\n",
       "    <tr>\n",
       "      <th>213</th>\n",
       "      <td>2000</td>\n",
       "      <td>NaN</td>\n",
       "      <td>12/13/00</td>\n",
       "      <td>NaN</td>\n",
       "      <td>no guest</td>\n",
       "    </tr>\n",
       "    <tr>\n",
       "      <th>303</th>\n",
       "      <td>2000</td>\n",
       "      <td>NaN</td>\n",
       "      <td>7/19/00</td>\n",
       "      <td>NaN</td>\n",
       "      <td>Fourth Anniversary Special</td>\n",
       "    </tr>\n",
       "    <tr>\n",
       "      <th>308</th>\n",
       "      <td>2000</td>\n",
       "      <td>NaN</td>\n",
       "      <td>7/31/00</td>\n",
       "      <td>NaN</td>\n",
       "      <td>Campaign Trail to the Road to the White House ...</td>\n",
       "    </tr>\n",
       "    <tr>\n",
       "      <th>434</th>\n",
       "      <td>2001</td>\n",
       "      <td>NaN</td>\n",
       "      <td>5/2/01</td>\n",
       "      <td>NaN</td>\n",
       "      <td>No guest</td>\n",
       "    </tr>\n",
       "    <tr>\n",
       "      <th>509</th>\n",
       "      <td>2002</td>\n",
       "      <td>NaN</td>\n",
       "      <td>10/14/02</td>\n",
       "      <td>NaN</td>\n",
       "      <td>Road to Washington Special</td>\n",
       "    </tr>\n",
       "    <tr>\n",
       "      <th>592</th>\n",
       "      <td>2002</td>\n",
       "      <td>NaN</td>\n",
       "      <td>5/23/02</td>\n",
       "      <td>NaN</td>\n",
       "      <td>Matt Walsh Goes To Hawaii</td>\n",
       "    </tr>\n",
       "    <tr>\n",
       "      <th>688</th>\n",
       "      <td>2003</td>\n",
       "      <td>NaN</td>\n",
       "      <td>11/24/03</td>\n",
       "      <td>NaN</td>\n",
       "      <td>Who are the Daily Show? Special</td>\n",
       "    </tr>\n",
       "    <tr>\n",
       "      <th>753</th>\n",
       "      <td>2003</td>\n",
       "      <td>NaN</td>\n",
       "      <td>5/26/03</td>\n",
       "      <td>NaN</td>\n",
       "      <td>Iraq - A Look Baq (or how we learned to stop r...</td>\n",
       "    </tr>\n",
       "    <tr>\n",
       "      <th>754</th>\n",
       "      <td>2003</td>\n",
       "      <td>NaN</td>\n",
       "      <td>5/26/03</td>\n",
       "      <td>NaN</td>\n",
       "      <td>Iraq - A Look Baq (or how we learned to stop r...</td>\n",
       "    </tr>\n",
       "    <tr>\n",
       "      <th>773</th>\n",
       "      <td>2003</td>\n",
       "      <td>NaN</td>\n",
       "      <td>6/8/03</td>\n",
       "      <td>NaN</td>\n",
       "      <td>Looking Beyond The Show</td>\n",
       "    </tr>\n",
       "    <tr>\n",
       "      <th>794</th>\n",
       "      <td>2003</td>\n",
       "      <td>-</td>\n",
       "      <td>8/14/03</td>\n",
       "      <td>NaN</td>\n",
       "      <td>Again, A Look Back</td>\n",
       "    </tr>\n",
       "    <tr>\n",
       "      <th>803</th>\n",
       "      <td>2003</td>\n",
       "      <td>NaN</td>\n",
       "      <td>9/1/03</td>\n",
       "      <td>NaN</td>\n",
       "      <td>I'm a Correspondent, Please Don't Fire Me!</td>\n",
       "    </tr>\n",
       "    <tr>\n",
       "      <th>805</th>\n",
       "      <td>2003</td>\n",
       "      <td>NaN</td>\n",
       "      <td>9/11/03</td>\n",
       "      <td>NaN</td>\n",
       "      <td>No Guest</td>\n",
       "    </tr>\n",
       "    <tr>\n",
       "      <th>945</th>\n",
       "      <td>2004</td>\n",
       "      <td>NaN</td>\n",
       "      <td>7/29/04</td>\n",
       "      <td>NaN</td>\n",
       "      <td>None</td>\n",
       "    </tr>\n",
       "    <tr>\n",
       "      <th>946</th>\n",
       "      <td>2004</td>\n",
       "      <td>NaN</td>\n",
       "      <td>7/30/04</td>\n",
       "      <td>NaN</td>\n",
       "      <td>None</td>\n",
       "    </tr>\n",
       "    <tr>\n",
       "      <th>961</th>\n",
       "      <td>2004</td>\n",
       "      <td>0</td>\n",
       "      <td>8/30/04</td>\n",
       "      <td>NaN</td>\n",
       "      <td>(None)</td>\n",
       "    </tr>\n",
       "    <tr>\n",
       "      <th>1173</th>\n",
       "      <td>2006</td>\n",
       "      <td>NaN</td>\n",
       "      <td>11/1/06</td>\n",
       "      <td>NaN</td>\n",
       "      <td>None</td>\n",
       "    </tr>\n",
       "    <tr>\n",
       "      <th>1365</th>\n",
       "      <td>2007</td>\n",
       "      <td>0</td>\n",
       "      <td>3/8/07</td>\n",
       "      <td>NaN</td>\n",
       "      <td>John Bambenek</td>\n",
       "    </tr>\n",
       "    <tr>\n",
       "      <th>1490</th>\n",
       "      <td>2008</td>\n",
       "      <td>NaN</td>\n",
       "      <td>11/4/08</td>\n",
       "      <td>NaN</td>\n",
       "      <td>Indecision 2008 Live Election Night Special</td>\n",
       "    </tr>\n",
       "    <tr>\n",
       "      <th>1591</th>\n",
       "      <td>2008</td>\n",
       "      <td>0</td>\n",
       "      <td>8/29/08</td>\n",
       "      <td>NaN</td>\n",
       "      <td>(no guest)</td>\n",
       "    </tr>\n",
       "    <tr>\n",
       "      <th>1608</th>\n",
       "      <td>2008</td>\n",
       "      <td>0</td>\n",
       "      <td>9/5/08</td>\n",
       "      <td>NaN</td>\n",
       "      <td>(no guest)</td>\n",
       "    </tr>\n",
       "    <tr>\n",
       "      <th>1796</th>\n",
       "      <td>2010</td>\n",
       "      <td>NaN</td>\n",
       "      <td>10/28/10</td>\n",
       "      <td>NaN</td>\n",
       "      <td>none</td>\n",
       "    </tr>\n",
       "    <tr>\n",
       "      <th>2145</th>\n",
       "      <td>2012</td>\n",
       "      <td>NaN</td>\n",
       "      <td>11/6/12</td>\n",
       "      <td>NaN</td>\n",
       "      <td>Election Night: This Ends Now</td>\n",
       "    </tr>\n",
       "    <tr>\n",
       "      <th>2175</th>\n",
       "      <td>2012</td>\n",
       "      <td>NaN</td>\n",
       "      <td>3/15/12</td>\n",
       "      <td>NaN</td>\n",
       "      <td>None</td>\n",
       "    </tr>\n",
       "    <tr>\n",
       "      <th>2248</th>\n",
       "      <td>2012</td>\n",
       "      <td>NaN</td>\n",
       "      <td>8/31/12</td>\n",
       "      <td>NaN</td>\n",
       "      <td>none</td>\n",
       "    </tr>\n",
       "    <tr>\n",
       "      <th>2263</th>\n",
       "      <td>2012</td>\n",
       "      <td>NaN</td>\n",
       "      <td>9/7/12</td>\n",
       "      <td>NaN</td>\n",
       "      <td>none</td>\n",
       "    </tr>\n",
       "    <tr>\n",
       "      <th>2393</th>\n",
       "      <td>2013</td>\n",
       "      <td>NaN</td>\n",
       "      <td>6/6/13</td>\n",
       "      <td>NaN</td>\n",
       "      <td>No Guest</td>\n",
       "    </tr>\n",
       "  </tbody>\n",
       "</table>\n",
       "</div>"
      ],
      "text/plain": [
       "      YEAR GoogleKnowlege_Occupation      Show Group  \\\n",
       "39    1999                       NaN  12/15/99   NaN   \n",
       "129   1999                       NaN   7/21/99   NaN   \n",
       "149   1999                       NaN   8/30/99   NaN   \n",
       "202   2000                       NaN  11/20/00   NaN   \n",
       "213   2000                       NaN  12/13/00   NaN   \n",
       "303   2000                       NaN   7/19/00   NaN   \n",
       "308   2000                       NaN   7/31/00   NaN   \n",
       "434   2001                       NaN    5/2/01   NaN   \n",
       "509   2002                       NaN  10/14/02   NaN   \n",
       "592   2002                       NaN   5/23/02   NaN   \n",
       "688   2003                       NaN  11/24/03   NaN   \n",
       "753   2003                       NaN   5/26/03   NaN   \n",
       "754   2003                       NaN   5/26/03   NaN   \n",
       "773   2003                       NaN    6/8/03   NaN   \n",
       "794   2003                         -   8/14/03   NaN   \n",
       "803   2003                       NaN    9/1/03   NaN   \n",
       "805   2003                       NaN   9/11/03   NaN   \n",
       "945   2004                       NaN   7/29/04   NaN   \n",
       "946   2004                       NaN   7/30/04   NaN   \n",
       "961   2004                         0   8/30/04   NaN   \n",
       "1173  2006                       NaN   11/1/06   NaN   \n",
       "1365  2007                         0    3/8/07   NaN   \n",
       "1490  2008                       NaN   11/4/08   NaN   \n",
       "1591  2008                         0   8/29/08   NaN   \n",
       "1608  2008                         0    9/5/08   NaN   \n",
       "1796  2010                       NaN  10/28/10   NaN   \n",
       "2145  2012                       NaN   11/6/12   NaN   \n",
       "2175  2012                       NaN   3/15/12   NaN   \n",
       "2248  2012                       NaN   8/31/12   NaN   \n",
       "2263  2012                       NaN    9/7/12   NaN   \n",
       "2393  2013                       NaN    6/6/13   NaN   \n",
       "\n",
       "                                         Raw_Guest_List  \n",
       "39                          Greatest Millennium Special  \n",
       "129                           Third Anniversary Special  \n",
       "149                   The Daily Show Summer Spectacular  \n",
       "202              Tales of Survival with Vance DeGeneres  \n",
       "213                                            no guest  \n",
       "303                          Fourth Anniversary Special  \n",
       "308   Campaign Trail to the Road to the White House ...  \n",
       "434                                            No guest  \n",
       "509                          Road to Washington Special  \n",
       "592                           Matt Walsh Goes To Hawaii  \n",
       "688                     Who are the Daily Show? Special  \n",
       "753   Iraq - A Look Baq (or how we learned to stop r...  \n",
       "754   Iraq - A Look Baq (or how we learned to stop r...  \n",
       "773                             Looking Beyond The Show  \n",
       "794                                  Again, A Look Back  \n",
       "803          I'm a Correspondent, Please Don't Fire Me!  \n",
       "805                                            No Guest  \n",
       "945                                                None  \n",
       "946                                                None  \n",
       "961                                              (None)  \n",
       "1173                                               None  \n",
       "1365                                      John Bambenek  \n",
       "1490        Indecision 2008 Live Election Night Special  \n",
       "1591                                         (no guest)  \n",
       "1608                                         (no guest)  \n",
       "1796                                               none  \n",
       "2145                      Election Night: This Ends Now  \n",
       "2175                                               None  \n",
       "2248                                               none  \n",
       "2263                                               none  \n",
       "2393                                           No Guest  "
      ]
     },
     "execution_count": 56,
     "metadata": {},
     "output_type": "execute_result"
    }
   ],
   "source": [
    "guests[guests['Group'].isnull()]"
   ]
  },
  {
   "cell_type": "code",
   "execution_count": 58,
   "metadata": {
    "collapsed": false
   },
   "outputs": [
    {
     "data": {
      "text/plain": [
       "2003    7\n",
       "2012    4\n",
       "2000    4\n",
       "2008    3\n",
       "2004    3\n",
       "1999    3\n",
       "2002    2\n",
       "2013    1\n",
       "2010    1\n",
       "2007    1\n",
       "2006    1\n",
       "2001    1\n",
       "Name: YEAR, dtype: int64"
      ]
     },
     "execution_count": 58,
     "metadata": {},
     "output_type": "execute_result"
    }
   ],
   "source": [
    "guests[guests['Group'].isnull()]['YEAR'].value_counts()"
   ]
  },
  {
   "cell_type": "markdown",
   "metadata": {},
   "source": [
    "### Shortest and longest guest list"
   ]
  },
  {
   "cell_type": "code",
   "execution_count": 63,
   "metadata": {
    "collapsed": false
   },
   "outputs": [
    {
     "data": {
      "text/html": [
       "<div>\n",
       "<table border=\"1\" class=\"dataframe\">\n",
       "  <thead>\n",
       "    <tr style=\"text-align: right;\">\n",
       "      <th></th>\n",
       "      <th>YEAR</th>\n",
       "      <th>GoogleKnowlege_Occupation</th>\n",
       "      <th>Show</th>\n",
       "      <th>Group</th>\n",
       "      <th>Raw_Guest_List</th>\n",
       "    </tr>\n",
       "  </thead>\n",
       "  <tbody>\n",
       "    <tr>\n",
       "      <th>1053</th>\n",
       "      <td>2005</td>\n",
       "      <td>Music Producer</td>\n",
       "      <td>3/24/05</td>\n",
       "      <td>Musician</td>\n",
       "      <td>RZA</td>\n",
       "    </tr>\n",
       "    <tr>\n",
       "      <th>946</th>\n",
       "      <td>2004</td>\n",
       "      <td>NaN</td>\n",
       "      <td>7/30/04</td>\n",
       "      <td>NaN</td>\n",
       "      <td>None</td>\n",
       "    </tr>\n",
       "    <tr>\n",
       "      <th>225</th>\n",
       "      <td>2000</td>\n",
       "      <td>Singer-songwriter</td>\n",
       "      <td>2/14/00</td>\n",
       "      <td>Musician</td>\n",
       "      <td>Moby</td>\n",
       "    </tr>\n",
       "    <tr>\n",
       "      <th>2175</th>\n",
       "      <td>2012</td>\n",
       "      <td>NaN</td>\n",
       "      <td>3/15/12</td>\n",
       "      <td>NaN</td>\n",
       "      <td>None</td>\n",
       "    </tr>\n",
       "    <tr>\n",
       "      <th>2248</th>\n",
       "      <td>2012</td>\n",
       "      <td>NaN</td>\n",
       "      <td>8/31/12</td>\n",
       "      <td>NaN</td>\n",
       "      <td>none</td>\n",
       "    </tr>\n",
       "    <tr>\n",
       "      <th>1978</th>\n",
       "      <td>2011</td>\n",
       "      <td>singer-songwriter</td>\n",
       "      <td>11/30/11</td>\n",
       "      <td>Musician</td>\n",
       "      <td>Bono</td>\n",
       "    </tr>\n",
       "    <tr>\n",
       "      <th>2255</th>\n",
       "      <td>2012</td>\n",
       "      <td>Product line</td>\n",
       "      <td>9/19/12</td>\n",
       "      <td>Misc</td>\n",
       "      <td>Pink</td>\n",
       "    </tr>\n",
       "    <tr>\n",
       "      <th>1173</th>\n",
       "      <td>2006</td>\n",
       "      <td>NaN</td>\n",
       "      <td>11/1/06</td>\n",
       "      <td>NaN</td>\n",
       "      <td>None</td>\n",
       "    </tr>\n",
       "    <tr>\n",
       "      <th>449</th>\n",
       "      <td>2001</td>\n",
       "      <td>Singer</td>\n",
       "      <td>6/21/01</td>\n",
       "      <td>Musician</td>\n",
       "      <td>Mí_a</td>\n",
       "    </tr>\n",
       "    <tr>\n",
       "      <th>1796</th>\n",
       "      <td>2010</td>\n",
       "      <td>NaN</td>\n",
       "      <td>10/28/10</td>\n",
       "      <td>NaN</td>\n",
       "      <td>none</td>\n",
       "    </tr>\n",
       "    <tr>\n",
       "      <th>945</th>\n",
       "      <td>2004</td>\n",
       "      <td>NaN</td>\n",
       "      <td>7/29/04</td>\n",
       "      <td>NaN</td>\n",
       "      <td>None</td>\n",
       "    </tr>\n",
       "    <tr>\n",
       "      <th>2263</th>\n",
       "      <td>2012</td>\n",
       "      <td>NaN</td>\n",
       "      <td>9/7/12</td>\n",
       "      <td>NaN</td>\n",
       "      <td>none</td>\n",
       "    </tr>\n",
       "    <tr>\n",
       "      <th>587</th>\n",
       "      <td>2002</td>\n",
       "      <td>Singer-songwriter</td>\n",
       "      <td>5/13/02</td>\n",
       "      <td>Musician</td>\n",
       "      <td>Moby</td>\n",
       "    </tr>\n",
       "    <tr>\n",
       "      <th>1807</th>\n",
       "      <td>2010</td>\n",
       "      <td>rapper</td>\n",
       "      <td>11/17/10</td>\n",
       "      <td>Musician</td>\n",
       "      <td>Jay-Z</td>\n",
       "    </tr>\n",
       "    <tr>\n",
       "      <th>43</th>\n",
       "      <td>1999</td>\n",
       "      <td>singer-songwriter</td>\n",
       "      <td>12/21/99</td>\n",
       "      <td>Musician</td>\n",
       "      <td>Jewel</td>\n",
       "    </tr>\n",
       "  </tbody>\n",
       "</table>\n",
       "</div>"
      ],
      "text/plain": [
       "      YEAR GoogleKnowlege_Occupation      Show     Group Raw_Guest_List\n",
       "1053  2005            Music Producer   3/24/05  Musician            RZA\n",
       "946   2004                       NaN   7/30/04       NaN           None\n",
       "225   2000         Singer-songwriter   2/14/00  Musician           Moby\n",
       "2175  2012                       NaN   3/15/12       NaN           None\n",
       "2248  2012                       NaN   8/31/12       NaN           none\n",
       "1978  2011         singer-songwriter  11/30/11  Musician           Bono\n",
       "2255  2012              Product line   9/19/12      Misc           Pink\n",
       "1173  2006                       NaN   11/1/06       NaN           None\n",
       "449   2001                    Singer   6/21/01  Musician           Mí_a\n",
       "1796  2010                       NaN  10/28/10       NaN           none\n",
       "945   2004                       NaN   7/29/04       NaN           None\n",
       "2263  2012                       NaN    9/7/12       NaN           none\n",
       "587   2002         Singer-songwriter   5/13/02  Musician           Moby\n",
       "1807  2010                    rapper  11/17/10  Musician          Jay-Z\n",
       "43    1999         singer-songwriter  12/21/99  Musician          Jewel"
      ]
     },
     "execution_count": 63,
     "metadata": {},
     "output_type": "execute_result"
    }
   ],
   "source": [
    "guests.iloc[guests['Raw_Guest_List'].map(lambda i: len(i)).sort_values().head(15).index]"
   ]
  },
  {
   "cell_type": "code",
   "execution_count": 64,
   "metadata": {
    "collapsed": false
   },
   "outputs": [
    {
     "data": {
      "text/html": [
       "<div>\n",
       "<table border=\"1\" class=\"dataframe\">\n",
       "  <thead>\n",
       "    <tr style=\"text-align: right;\">\n",
       "      <th></th>\n",
       "      <th>YEAR</th>\n",
       "      <th>GoogleKnowlege_Occupation</th>\n",
       "      <th>Show</th>\n",
       "      <th>Group</th>\n",
       "      <th>Raw_Guest_List</th>\n",
       "    </tr>\n",
       "  </thead>\n",
       "  <tbody>\n",
       "    <tr>\n",
       "      <th>754</th>\n",
       "      <td>2003</td>\n",
       "      <td>NaN</td>\n",
       "      <td>5/26/03</td>\n",
       "      <td>NaN</td>\n",
       "      <td>Iraq - A Look Baq (or how we learned to stop r...</td>\n",
       "    </tr>\n",
       "    <tr>\n",
       "      <th>753</th>\n",
       "      <td>2003</td>\n",
       "      <td>NaN</td>\n",
       "      <td>5/26/03</td>\n",
       "      <td>NaN</td>\n",
       "      <td>Iraq - A Look Baq (or how we learned to stop r...</td>\n",
       "    </tr>\n",
       "    <tr>\n",
       "      <th>308</th>\n",
       "      <td>2000</td>\n",
       "      <td>NaN</td>\n",
       "      <td>7/31/00</td>\n",
       "      <td>NaN</td>\n",
       "      <td>Campaign Trail to the Road to the White House ...</td>\n",
       "    </tr>\n",
       "    <tr>\n",
       "      <th>379</th>\n",
       "      <td>2001</td>\n",
       "      <td>Comedian</td>\n",
       "      <td>12/10/01</td>\n",
       "      <td>Comedy</td>\n",
       "      <td>Stephen Colbert as Al Sharpton (Sharpton had b...</td>\n",
       "    </tr>\n",
       "    <tr>\n",
       "      <th>677</th>\n",
       "      <td>2003</td>\n",
       "      <td>actor</td>\n",
       "      <td>10/7/03</td>\n",
       "      <td>Acting</td>\n",
       "      <td>Ronny Cox Marc Singer Robert Amstler Arianna H...</td>\n",
       "    </tr>\n",
       "    <tr>\n",
       "      <th>229</th>\n",
       "      <td>2000</td>\n",
       "      <td>former senator from kansas</td>\n",
       "      <td>2/2/00</td>\n",
       "      <td>Politician</td>\n",
       "      <td>Focus on New Hampshire Special, special guest ...</td>\n",
       "    </tr>\n",
       "    <tr>\n",
       "      <th>2315</th>\n",
       "      <td>2013</td>\n",
       "      <td>actor</td>\n",
       "      <td>12/18/13</td>\n",
       "      <td>Acting</td>\n",
       "      <td>Steve Carell, Will Ferrell, David Koechner &amp; P...</td>\n",
       "    </tr>\n",
       "    <tr>\n",
       "      <th>2314</th>\n",
       "      <td>2013</td>\n",
       "      <td>actor</td>\n",
       "      <td>12/18/13</td>\n",
       "      <td>Acting</td>\n",
       "      <td>Steve Carell, Will Ferrell, David Koechner &amp; P...</td>\n",
       "    </tr>\n",
       "    <tr>\n",
       "      <th>2313</th>\n",
       "      <td>2013</td>\n",
       "      <td>actor</td>\n",
       "      <td>12/18/13</td>\n",
       "      <td>Acting</td>\n",
       "      <td>Steve Carell, Will Ferrell, David Koechner &amp; P...</td>\n",
       "    </tr>\n",
       "    <tr>\n",
       "      <th>1919</th>\n",
       "      <td>2010</td>\n",
       "      <td>actor</td>\n",
       "      <td>8/3/10</td>\n",
       "      <td>Acting</td>\n",
       "      <td>Will Ferrell (The interview also featured Rob ...</td>\n",
       "    </tr>\n",
       "    <tr>\n",
       "      <th>1751</th>\n",
       "      <td>2009</td>\n",
       "      <td>author</td>\n",
       "      <td>8/12/09</td>\n",
       "      <td>Media</td>\n",
       "      <td>Larry Lawton (skit)[4] and Jeff Sharlet (inter...</td>\n",
       "    </tr>\n",
       "    <tr>\n",
       "      <th>1752</th>\n",
       "      <td>2009</td>\n",
       "      <td>journalist</td>\n",
       "      <td>8/12/09</td>\n",
       "      <td>Media</td>\n",
       "      <td>Larry Lawton (skit)[4] and Jeff Sharlet (inter...</td>\n",
       "    </tr>\n",
       "    <tr>\n",
       "      <th>68</th>\n",
       "      <td>1999</td>\n",
       "      <td>actor</td>\n",
       "      <td>3/17/99</td>\n",
       "      <td>Acting</td>\n",
       "      <td>Frank DeCaro's Oscar Special, John Larroquette</td>\n",
       "    </tr>\n",
       "    <tr>\n",
       "      <th>51</th>\n",
       "      <td>1999</td>\n",
       "      <td>actress</td>\n",
       "      <td>2/10/99</td>\n",
       "      <td>Acting</td>\n",
       "      <td>Pamela Anderson, Natalie Raitano, Molly Culver</td>\n",
       "    </tr>\n",
       "    <tr>\n",
       "      <th>67</th>\n",
       "      <td>1999</td>\n",
       "      <td>writer</td>\n",
       "      <td>3/17/99</td>\n",
       "      <td>Media</td>\n",
       "      <td>Frank DeCaro's Oscar Special, John Larroquette</td>\n",
       "    </tr>\n",
       "  </tbody>\n",
       "</table>\n",
       "</div>"
      ],
      "text/plain": [
       "      YEAR   GoogleKnowlege_Occupation      Show       Group  \\\n",
       "754   2003                         NaN   5/26/03         NaN   \n",
       "753   2003                         NaN   5/26/03         NaN   \n",
       "308   2000                         NaN   7/31/00         NaN   \n",
       "379   2001                    Comedian  12/10/01      Comedy   \n",
       "677   2003                       actor   10/7/03      Acting   \n",
       "229   2000  former senator from kansas    2/2/00  Politician   \n",
       "2315  2013                       actor  12/18/13      Acting   \n",
       "2314  2013                       actor  12/18/13      Acting   \n",
       "2313  2013                       actor  12/18/13      Acting   \n",
       "1919  2010                       actor    8/3/10      Acting   \n",
       "1751  2009                      author   8/12/09       Media   \n",
       "1752  2009                  journalist   8/12/09       Media   \n",
       "68    1999                       actor   3/17/99      Acting   \n",
       "51    1999                     actress   2/10/99      Acting   \n",
       "67    1999                      writer   3/17/99       Media   \n",
       "\n",
       "                                         Raw_Guest_List  \n",
       "754   Iraq - A Look Baq (or how we learned to stop r...  \n",
       "753   Iraq - A Look Baq (or how we learned to stop r...  \n",
       "308   Campaign Trail to the Road to the White House ...  \n",
       "379   Stephen Colbert as Al Sharpton (Sharpton had b...  \n",
       "677   Ronny Cox Marc Singer Robert Amstler Arianna H...  \n",
       "229   Focus on New Hampshire Special, special guest ...  \n",
       "2315  Steve Carell, Will Ferrell, David Koechner & P...  \n",
       "2314  Steve Carell, Will Ferrell, David Koechner & P...  \n",
       "2313  Steve Carell, Will Ferrell, David Koechner & P...  \n",
       "1919  Will Ferrell (The interview also featured Rob ...  \n",
       "1751  Larry Lawton (skit)[4] and Jeff Sharlet (inter...  \n",
       "1752  Larry Lawton (skit)[4] and Jeff Sharlet (inter...  \n",
       "68       Frank DeCaro's Oscar Special, John Larroquette  \n",
       "51       Pamela Anderson, Natalie Raitano, Molly Culver  \n",
       "67       Frank DeCaro's Oscar Special, John Larroquette  "
      ]
     },
     "execution_count": 64,
     "metadata": {},
     "output_type": "execute_result"
    }
   ],
   "source": [
    "guests.iloc[guests['Raw_Guest_List'].map(lambda i: len(i)).sort_values(ascending=False).head(15).index]"
   ]
  },
  {
   "cell_type": "code",
   "execution_count": 40,
   "metadata": {
    "collapsed": true
   },
   "outputs": [],
   "source": [
    "guests_most_frequent = guests.pivot_table(index='Raw_Guest_List', aggfunc=np.count_nonzero).sort_values(by='Show', ascending=False)"
   ]
  },
  {
   "cell_type": "code",
   "execution_count": 42,
   "metadata": {
    "collapsed": false
   },
   "outputs": [
    {
     "data": {
      "text/plain": [
       "Index(['Fareed Zakaria', 'Denis Leary', 'Brian Williams', 'Paul Rudd',\n",
       "       'Ricky Gervais', 'Tom Brokaw', 'Richard Lewis', 'Bill O'Reilly',\n",
       "       'Will Ferrell', 'Reza Aslan',\n",
       "       ...\n",
       "       'Jake Johannsen', 'Jake Gyllenhaal[8]', 'Jake Adelstein',\n",
       "       'Jack's Mannequin', 'Jack Rakove', 'Ja Rule', 'J.J. Abrams',\n",
       "       'J. K. Simmons', 'J. K. Rowling', 'Jonathan Macey'],\n",
       "      dtype='object', name='Raw_Guest_List', length=1669)"
      ]
     },
     "execution_count": 42,
     "metadata": {},
     "output_type": "execute_result"
    }
   ],
   "source": [
    "guests_most_frequent.index"
   ]
  },
  {
   "cell_type": "code",
   "execution_count": 43,
   "metadata": {
    "collapsed": false
   },
   "outputs": [
    {
     "data": {
      "text/plain": [
       "Index(['GoogleKnowlege_Occupation', 'Group', 'Show', 'YEAR'], dtype='object')"
      ]
     },
     "execution_count": 43,
     "metadata": {},
     "output_type": "execute_result"
    }
   ],
   "source": [
    "guests_most_frequent.columns"
   ]
  },
  {
   "cell_type": "code",
   "execution_count": 44,
   "metadata": {
    "collapsed": false
   },
   "outputs": [
    {
     "data": {
      "text/html": [
       "<div>\n",
       "<table border=\"1\" class=\"dataframe\">\n",
       "  <thead>\n",
       "    <tr style=\"text-align: right;\">\n",
       "      <th></th>\n",
       "      <th>GoogleKnowlege_Occupation</th>\n",
       "      <th>Group</th>\n",
       "      <th>Show</th>\n",
       "      <th>YEAR</th>\n",
       "    </tr>\n",
       "    <tr>\n",
       "      <th>Raw_Guest_List</th>\n",
       "      <th></th>\n",
       "      <th></th>\n",
       "      <th></th>\n",
       "      <th></th>\n",
       "    </tr>\n",
       "  </thead>\n",
       "  <tbody>\n",
       "    <tr>\n",
       "      <th>Fareed Zakaria</th>\n",
       "      <td>19</td>\n",
       "      <td>19</td>\n",
       "      <td>19</td>\n",
       "      <td>19</td>\n",
       "    </tr>\n",
       "    <tr>\n",
       "      <th>Denis Leary</th>\n",
       "      <td>17</td>\n",
       "      <td>17</td>\n",
       "      <td>17</td>\n",
       "      <td>17</td>\n",
       "    </tr>\n",
       "    <tr>\n",
       "      <th>Brian Williams</th>\n",
       "      <td>16</td>\n",
       "      <td>16</td>\n",
       "      <td>16</td>\n",
       "      <td>16</td>\n",
       "    </tr>\n",
       "    <tr>\n",
       "      <th>Paul Rudd</th>\n",
       "      <td>13</td>\n",
       "      <td>13</td>\n",
       "      <td>13</td>\n",
       "      <td>13</td>\n",
       "    </tr>\n",
       "    <tr>\n",
       "      <th>Ricky Gervais</th>\n",
       "      <td>13</td>\n",
       "      <td>13</td>\n",
       "      <td>13</td>\n",
       "      <td>13</td>\n",
       "    </tr>\n",
       "  </tbody>\n",
       "</table>\n",
       "</div>"
      ],
      "text/plain": [
       "                GoogleKnowlege_Occupation  Group  Show  YEAR\n",
       "Raw_Guest_List                                              \n",
       "Fareed Zakaria                         19     19    19    19\n",
       "Denis Leary                            17     17    17    17\n",
       "Brian Williams                         16     16    16    16\n",
       "Paul Rudd                              13     13    13    13\n",
       "Ricky Gervais                          13     13    13    13"
      ]
     },
     "execution_count": 44,
     "metadata": {},
     "output_type": "execute_result"
    }
   ],
   "source": [
    "guests_most_frequent.head()"
   ]
  },
  {
   "cell_type": "code",
   "execution_count": 45,
   "metadata": {
    "collapsed": true
   },
   "outputs": [],
   "source": [
    "groups_most_frequent = guests.pivot_table(index='Group', aggfunc=np.count_nonzero).sort_values(by='Show', ascending=False)"
   ]
  },
  {
   "cell_type": "code",
   "execution_count": 47,
   "metadata": {
    "collapsed": false
   },
   "outputs": [
    {
     "data": {
      "text/plain": [
       "(17, 4)"
      ]
     },
     "execution_count": 47,
     "metadata": {},
     "output_type": "execute_result"
    }
   ],
   "source": [
    "groups_most_frequent.shape"
   ]
  },
  {
   "cell_type": "code",
   "execution_count": 48,
   "metadata": {
    "collapsed": false
   },
   "outputs": [
    {
     "data": {
      "text/html": [
       "<div>\n",
       "<table border=\"1\" class=\"dataframe\">\n",
       "  <thead>\n",
       "    <tr style=\"text-align: right;\">\n",
       "      <th></th>\n",
       "      <th>GoogleKnowlege_Occupation</th>\n",
       "      <th>Raw_Guest_List</th>\n",
       "      <th>Show</th>\n",
       "      <th>YEAR</th>\n",
       "    </tr>\n",
       "    <tr>\n",
       "      <th>Group</th>\n",
       "      <th></th>\n",
       "      <th></th>\n",
       "      <th></th>\n",
       "      <th></th>\n",
       "    </tr>\n",
       "  </thead>\n",
       "  <tbody>\n",
       "    <tr>\n",
       "      <th>Acting</th>\n",
       "      <td>930</td>\n",
       "      <td>930</td>\n",
       "      <td>930</td>\n",
       "      <td>930</td>\n",
       "    </tr>\n",
       "    <tr>\n",
       "      <th>Media</th>\n",
       "      <td>751</td>\n",
       "      <td>751</td>\n",
       "      <td>751</td>\n",
       "      <td>751</td>\n",
       "    </tr>\n",
       "    <tr>\n",
       "      <th>Politician</th>\n",
       "      <td>308</td>\n",
       "      <td>308</td>\n",
       "      <td>308</td>\n",
       "      <td>308</td>\n",
       "    </tr>\n",
       "    <tr>\n",
       "      <th>Comedy</th>\n",
       "      <td>150</td>\n",
       "      <td>150</td>\n",
       "      <td>150</td>\n",
       "      <td>150</td>\n",
       "    </tr>\n",
       "    <tr>\n",
       "      <th>Musician</th>\n",
       "      <td>123</td>\n",
       "      <td>123</td>\n",
       "      <td>123</td>\n",
       "      <td>123</td>\n",
       "    </tr>\n",
       "    <tr>\n",
       "      <th>Academic</th>\n",
       "      <td>103</td>\n",
       "      <td>103</td>\n",
       "      <td>103</td>\n",
       "      <td>103</td>\n",
       "    </tr>\n",
       "    <tr>\n",
       "      <th>Athletics</th>\n",
       "      <td>52</td>\n",
       "      <td>52</td>\n",
       "      <td>52</td>\n",
       "      <td>52</td>\n",
       "    </tr>\n",
       "    <tr>\n",
       "      <th>Misc</th>\n",
       "      <td>45</td>\n",
       "      <td>45</td>\n",
       "      <td>45</td>\n",
       "      <td>45</td>\n",
       "    </tr>\n",
       "    <tr>\n",
       "      <th>Government</th>\n",
       "      <td>40</td>\n",
       "      <td>40</td>\n",
       "      <td>40</td>\n",
       "      <td>40</td>\n",
       "    </tr>\n",
       "    <tr>\n",
       "      <th>Political Aide</th>\n",
       "      <td>36</td>\n",
       "      <td>36</td>\n",
       "      <td>36</td>\n",
       "      <td>36</td>\n",
       "    </tr>\n",
       "    <tr>\n",
       "      <th>Science</th>\n",
       "      <td>28</td>\n",
       "      <td>28</td>\n",
       "      <td>28</td>\n",
       "      <td>28</td>\n",
       "    </tr>\n",
       "    <tr>\n",
       "      <th>Business</th>\n",
       "      <td>25</td>\n",
       "      <td>25</td>\n",
       "      <td>25</td>\n",
       "      <td>25</td>\n",
       "    </tr>\n",
       "    <tr>\n",
       "      <th>Advocacy</th>\n",
       "      <td>24</td>\n",
       "      <td>24</td>\n",
       "      <td>24</td>\n",
       "      <td>24</td>\n",
       "    </tr>\n",
       "    <tr>\n",
       "      <th>Consultant</th>\n",
       "      <td>18</td>\n",
       "      <td>18</td>\n",
       "      <td>18</td>\n",
       "      <td>18</td>\n",
       "    </tr>\n",
       "    <tr>\n",
       "      <th>Military</th>\n",
       "      <td>16</td>\n",
       "      <td>16</td>\n",
       "      <td>16</td>\n",
       "      <td>16</td>\n",
       "    </tr>\n",
       "    <tr>\n",
       "      <th>Clergy</th>\n",
       "      <td>8</td>\n",
       "      <td>8</td>\n",
       "      <td>8</td>\n",
       "      <td>8</td>\n",
       "    </tr>\n",
       "    <tr>\n",
       "      <th>media</th>\n",
       "      <td>5</td>\n",
       "      <td>5</td>\n",
       "      <td>5</td>\n",
       "      <td>5</td>\n",
       "    </tr>\n",
       "  </tbody>\n",
       "</table>\n",
       "</div>"
      ],
      "text/plain": [
       "                GoogleKnowlege_Occupation  Raw_Guest_List  Show  YEAR\n",
       "Group                                                                \n",
       "Acting                                930             930   930   930\n",
       "Media                                 751             751   751   751\n",
       "Politician                            308             308   308   308\n",
       "Comedy                                150             150   150   150\n",
       "Musician                              123             123   123   123\n",
       "Academic                              103             103   103   103\n",
       "Athletics                              52              52    52    52\n",
       "Misc                                   45              45    45    45\n",
       "Government                             40              40    40    40\n",
       "Political Aide                         36              36    36    36\n",
       "Science                                28              28    28    28\n",
       "Business                               25              25    25    25\n",
       "Advocacy                               24              24    24    24\n",
       "Consultant                             18              18    18    18\n",
       "Military                               16              16    16    16\n",
       "Clergy                                  8               8     8     8\n",
       "media                                   5               5     5     5"
      ]
     },
     "execution_count": 48,
     "metadata": {},
     "output_type": "execute_result"
    }
   ],
   "source": [
    "groups_most_frequent"
   ]
  },
  {
   "cell_type": "markdown",
   "metadata": {},
   "source": [
    "## Start plotting"
   ]
  },
  {
   "cell_type": "code",
   "execution_count": 65,
   "metadata": {
    "collapsed": true
   },
   "outputs": [],
   "source": [
    "number_guests = guests.pivot_table(index='YEAR', values='Raw_Guest_List', aggfunc=np.count_nonzero)"
   ]
  },
  {
   "cell_type": "code",
   "execution_count": 66,
   "metadata": {
    "collapsed": false
   },
   "outputs": [
    {
     "data": {
      "text/plain": [
       "<matplotlib.axes._subplots.AxesSubplot at 0x1109b4860>"
      ]
     },
     "execution_count": 66,
     "metadata": {},
     "output_type": "execute_result"
    },
    {
     "data": {
      "image/png": "[encoded data removed]",
      "text/plain": [
       "<matplotlib.figure.Figure at 0x110c9b048>"
      ]
     },
     "metadata": {},
     "output_type": "display_data"
    }
   ],
   "source": [
    "sns.tsplot(number_guests, time=number_guests.index)"
   ]
  },
  {
   "cell_type": "code",
   "execution_count": 71,
   "metadata": {
    "collapsed": false
   },
   "outputs": [
    {
     "data": {
      "text/plain": [
       "<matplotlib.axes._subplots.AxesSubplot at 0x11306e2e8>"
      ]
     },
     "execution_count": 71,
     "metadata": {},
     "output_type": "execute_result"
    },
    {
     "data": {
      "image/png": "[encoded data removed]",
      "text/plain": [
       "<matplotlib.figure.Figure at 0x110b9b860>"
      ]
     },
     "metadata": {},
     "output_type": "display_data"
    }
   ],
   "source": [
    "plt.ylim(50, 200)\n",
    "sns.tsplot(number_guests, time=number_guests.index)"
   ]
  },
  {
   "cell_type": "code",
   "execution_count": null,
   "metadata": {
    "collapsed": true
   },
   "outputs": [],
   "source": []
  },
  {
   "cell_type": "code",
   "execution_count": 72,
   "metadata": {
    "collapsed": true
   },
   "outputs": [],
   "source": [
    "guests_per_group = guests.pivot_table(index=['YEAR', 'Group'], values='Raw_Guest_List', aggfunc=np.count_nonzero)"
   ]
  },
  {
   "cell_type": "code",
   "execution_count": 75,
   "metadata": {
    "collapsed": false
   },
   "outputs": [
    {
     "data": {
      "text/plain": [
       "YEAR  Group         \n",
       "1999  Acting            108\n",
       "      Comedy             25\n",
       "      Media              11\n",
       "      Musician           17\n",
       "      Politician          2\n",
       "2000  Acting            100\n",
       "      Advocacy            1\n",
       "      Athletics           3\n",
       "      Business            1\n",
       "      Comedy             12\n",
       "      Media              21\n",
       "      Musician           13\n",
       "      Political Aide      1\n",
       "      Politician         13\n",
       "2001  Academic            2\n",
       "Name: Raw_Guest_List, dtype: int64"
      ]
     },
     "execution_count": 75,
     "metadata": {},
     "output_type": "execute_result"
    }
   ],
   "source": [
    "guests_per_group.head(15)"
   ]
  },
  {
   "cell_type": "code",
   "execution_count": 76,
   "metadata": {
    "collapsed": false
   },
   "outputs": [
    {
     "data": {
      "text/plain": [
       "(224,)"
      ]
     },
     "execution_count": 76,
     "metadata": {},
     "output_type": "execute_result"
    }
   ],
   "source": [
    "guests_per_group.shape"
   ]
  },
  {
   "cell_type": "code",
   "execution_count": 77,
   "metadata": {
    "collapsed": false
   },
   "outputs": [
    {
     "data": {
      "text/plain": [
       "MultiIndex(levels=[[1999, 2000, 2001, 2002, 2003, 2004, 2005, 2006, 2007, 2008, 2009, 2010, 2011, 2012, 2013, 2014, 2015], ['Academic', 'Acting', 'Advocacy', 'Athletics', 'Business', 'Clergy', 'Comedy', 'Consultant', 'Government', 'Media', 'Military', 'Misc', 'Musician', 'Political Aide', 'Politician', 'Science', 'media']],\n",
       "           labels=[[0, 0, 0, 0, 0, 1, 1, 1, 1, 1, 1, 1, 1, 1, 2, 2, 2, 2, 2, 2, 2, 2, 2, 2, 2, 3, 3, 3, 3, 3, 3, 3, 3, 3, 3, 3, 3, 4, 4, 4, 4, 4, 4, 4, 4, 4, 4, 4, 4, 5, 5, 5, 5, 5, 5, 5, 5, 5, 5, 5, 5, 5, 5, 6, 6, 6, 6, 6, 6, 6, 6, 6, 6, 6, 6, 6, 6, 7, 7, 7, 7, 7, 7, 7, 7, 7, 7, 7, 7, 7, 7, 8, 8, 8, 8, 8, 8, 8, 8, 8, 8, 8, 8, 8, 8, 8, 8, 9, 9, 9, 9, 9, 9, 9, 9, 9, 9, 9, 9, 9, 9, 10, 10, 10, 10, 10, 10, 10, 10, 10, 10, 10, 10, 10, 10, 10, 10, 11, 11, 11, 11, 11, 11, 11, 11, 11, 11, 11, 11, 11, 11, 11, 12, 12, 12, 12, 12, 12, 12, 12, 12, 12, 12, 12, 12, 12, 12, 12, 13, 13, 13, 13, 13, 13, 13, 13, 13, 13, 13, 13, 13, 13, 13, 14, 14, 14, 14, 14, 14, 14, 14, 14, 14, 14, 14, 14, 14, 15, 15, 15, 15, 15, 15, 15, 15, 15, 15, 15, 15, 15, 15, 16, 16, 16, 16, 16, 16, 16, 16, 16, 16, 16, 16, 16], [1, 6, 9, 12, 14, 1, 2, 3, 4, 6, 9, 12, 13, 14, 0, 1, 3, 6, 8, 9, 11, 12, 13, 14, 16, 1, 2, 3, 5, 6, 8, 9, 11, 12, 13, 14, 16, 0, 1, 5, 6, 7, 8, 9, 11, 12, 13, 14, 15, 0, 1, 2, 3, 4, 5, 6, 7, 8, 9, 12, 13, 14, 15, 0, 1, 3, 4, 6, 7, 8, 9, 10, 11, 12, 13, 14, 15, 0, 1, 3, 4, 6, 7, 8, 9, 10, 11, 12, 13, 14, 15, 0, 1, 2, 3, 4, 5, 6, 7, 8, 9, 10, 11, 12, 13, 14, 15, 0, 1, 2, 3, 4, 6, 7, 9, 10, 11, 12, 13, 14, 15, 0, 1, 2, 3, 4, 5, 6, 7, 8, 9, 10, 11, 12, 13, 14, 15, 0, 1, 2, 3, 4, 6, 7, 8, 9, 10, 11, 12, 13, 14, 15, 0, 1, 2, 3, 4, 5, 6, 8, 9, 10, 11, 12, 13, 14, 15, 16, 0, 1, 2, 3, 4, 5, 6, 8, 9, 10, 11, 12, 13, 14, 15, 0, 1, 2, 3, 4, 6, 8, 9, 10, 11, 12, 13, 14, 15, 0, 1, 2, 3, 4, 6, 8, 9, 10, 11, 12, 13, 14, 15, 0, 1, 2, 3, 4, 6, 9, 10, 11, 12, 13, 14, 15]],\n",
       "           names=['YEAR', 'Group'])"
      ]
     },
     "execution_count": 77,
     "metadata": {},
     "output_type": "execute_result"
    }
   ],
   "source": [
    "guests_per_group.index"
   ]
  },
  {
   "cell_type": "markdown",
   "metadata": {},
   "source": [
    "guests_per_group is now a Series rather than a DataFrame... let's do reset_index()"
   ]
  },
  {
   "cell_type": "code",
   "execution_count": 79,
   "metadata": {
    "collapsed": true
   },
   "outputs": [],
   "source": [
    "guests_per_group = guests_per_group.reset_index()"
   ]
  },
  {
   "cell_type": "code",
   "execution_count": 80,
   "metadata": {
    "collapsed": false
   },
   "outputs": [
    {
     "data": {
      "text/plain": [
       "(224, 3)"
      ]
     },
     "execution_count": 80,
     "metadata": {},
     "output_type": "execute_result"
    }
   ],
   "source": [
    "guests_per_group.shape"
   ]
  },
  {
   "cell_type": "code",
   "execution_count": 81,
   "metadata": {
    "collapsed": false
   },
   "outputs": [
    {
     "data": {
      "text/plain": [
       "RangeIndex(start=0, stop=224, step=1)"
      ]
     },
     "execution_count": 81,
     "metadata": {},
     "output_type": "execute_result"
    }
   ],
   "source": [
    "guests_per_group.index"
   ]
  },
  {
   "cell_type": "code",
   "execution_count": 82,
   "metadata": {
    "collapsed": false
   },
   "outputs": [
    {
     "data": {
      "text/plain": [
       "Index(['YEAR', 'Group', 'Raw_Guest_List'], dtype='object')"
      ]
     },
     "execution_count": 82,
     "metadata": {},
     "output_type": "execute_result"
    }
   ],
   "source": [
    "guests_per_group.columns"
   ]
  },
  {
   "cell_type": "code",
   "execution_count": 83,
   "metadata": {
    "collapsed": false
   },
   "outputs": [
    {
     "data": {
      "text/html": [
       "<div>\n",
       "<table border=\"1\" class=\"dataframe\">\n",
       "  <thead>\n",
       "    <tr style=\"text-align: right;\">\n",
       "      <th></th>\n",
       "      <th>YEAR</th>\n",
       "      <th>Group</th>\n",
       "      <th>Raw_Guest_List</th>\n",
       "    </tr>\n",
       "  </thead>\n",
       "  <tbody>\n",
       "    <tr>\n",
       "      <th>0</th>\n",
       "      <td>1999</td>\n",
       "      <td>Acting</td>\n",
       "      <td>108</td>\n",
       "    </tr>\n",
       "    <tr>\n",
       "      <th>1</th>\n",
       "      <td>1999</td>\n",
       "      <td>Comedy</td>\n",
       "      <td>25</td>\n",
       "    </tr>\n",
       "    <tr>\n",
       "      <th>2</th>\n",
       "      <td>1999</td>\n",
       "      <td>Media</td>\n",
       "      <td>11</td>\n",
       "    </tr>\n",
       "    <tr>\n",
       "      <th>3</th>\n",
       "      <td>1999</td>\n",
       "      <td>Musician</td>\n",
       "      <td>17</td>\n",
       "    </tr>\n",
       "    <tr>\n",
       "      <th>4</th>\n",
       "      <td>1999</td>\n",
       "      <td>Politician</td>\n",
       "      <td>2</td>\n",
       "    </tr>\n",
       "  </tbody>\n",
       "</table>\n",
       "</div>"
      ],
      "text/plain": [
       "   YEAR       Group  Raw_Guest_List\n",
       "0  1999      Acting             108\n",
       "1  1999      Comedy              25\n",
       "2  1999       Media              11\n",
       "3  1999    Musician              17\n",
       "4  1999  Politician               2"
      ]
     },
     "execution_count": 83,
     "metadata": {},
     "output_type": "execute_result"
    }
   ],
   "source": [
    "guests_per_group.head()"
   ]
  },
  {
   "cell_type": "code",
   "execution_count": 84,
   "metadata": {
    "collapsed": false
   },
   "outputs": [
    {
     "data": {
      "text/plain": [
       "[<matplotlib.lines.Line2D at 0x113f2cf98>,\n",
       " <matplotlib.lines.Line2D at 0x113f322e8>]"
      ]
     },
     "execution_count": 84,
     "metadata": {},
     "output_type": "execute_result"
    },
    {
     "data": {
      "image/png": "[encoded data removed]",
      "text/plain": [
       "<matplotlib.figure.Figure at 0x113f44e48>"
      ]
     },
     "metadata": {},
     "output_type": "display_data"
    }
   ],
   "source": [
    "Acting = guests_per_group[guests_per_group['Group'] == 'Acting']\n",
    "Media = guests_per_group[guests_per_group['Group'] == 'Media']\n",
    "\n",
    "plt.plot(Acting['YEAR'], Acting['Raw_Guest_List'], Media['YEAR'], Media['Raw_Guest_List'])"
   ]
  },
  {
   "cell_type": "code",
   "execution_count": 87,
   "metadata": {
    "collapsed": false
   },
   "outputs": [
    {
     "data": {
      "text/plain": [
       "[<matplotlib.lines.Line2D at 0x1143208d0>]"
      ]
     },
     "execution_count": 87,
     "metadata": {},
     "output_type": "execute_result"
    },
    {
     "data": {
      "image/png": "[encoded data removed]",
      "text/plain": [
       "<matplotlib.figure.Figure at 0x114320908>"
      ]
     },
     "metadata": {},
     "output_type": "display_data"
    }
   ],
   "source": [
    "plt.plot(Acting['YEAR'], Acting['Raw_Guest_List'])\n",
    "plt.plot(Media['YEAR'], Media['Raw_Guest_List'])"
   ]
  },
  {
   "cell_type": "markdown",
   "metadata": {},
   "source": [
    "OK these two ways are the same?"
   ]
  },
  {
   "cell_type": "markdown",
   "metadata": {},
   "source": [
    "### Try with per group"
   ]
  },
  {
   "cell_type": "code",
   "execution_count": 89,
   "metadata": {
    "collapsed": true
   },
   "outputs": [],
   "source": [
    "guests_per_group_hor = guests.pivot_table(index='YEAR', columns='Group', values='Raw_Guest_List', aggfunc=np.count_nonzero)"
   ]
  },
  {
   "cell_type": "code",
   "execution_count": 92,
   "metadata": {
    "collapsed": false
   },
   "outputs": [
    {
     "data": {
      "text/html": [
       "<div>\n",
       "<table border=\"1\" class=\"dataframe\">\n",
       "  <thead>\n",
       "    <tr style=\"text-align: right;\">\n",
       "      <th>Group</th>\n",
       "      <th>Acting</th>\n",
       "      <th>Advocacy</th>\n",
       "      <th>Athletics</th>\n",
       "      <th>Business</th>\n",
       "    </tr>\n",
       "    <tr>\n",
       "      <th>YEAR</th>\n",
       "      <th></th>\n",
       "      <th></th>\n",
       "      <th></th>\n",
       "      <th></th>\n",
       "    </tr>\n",
       "  </thead>\n",
       "  <tbody>\n",
       "    <tr>\n",
       "      <th>2000</th>\n",
       "      <td>100.0</td>\n",
       "      <td>1.0</td>\n",
       "      <td>3.0</td>\n",
       "      <td>1.0</td>\n",
       "    </tr>\n",
       "    <tr>\n",
       "      <th>2001</th>\n",
       "      <td>92.0</td>\n",
       "      <td>NaN</td>\n",
       "      <td>1.0</td>\n",
       "      <td>NaN</td>\n",
       "    </tr>\n",
       "    <tr>\n",
       "      <th>2002</th>\n",
       "      <td>84.0</td>\n",
       "      <td>1.0</td>\n",
       "      <td>2.0</td>\n",
       "      <td>NaN</td>\n",
       "    </tr>\n",
       "    <tr>\n",
       "      <th>2003</th>\n",
       "      <td>74.0</td>\n",
       "      <td>NaN</td>\n",
       "      <td>NaN</td>\n",
       "      <td>NaN</td>\n",
       "    </tr>\n",
       "  </tbody>\n",
       "</table>\n",
       "</div>"
      ],
      "text/plain": [
       "Group  Acting  Advocacy  Athletics  Business\n",
       "YEAR                                        \n",
       "2000    100.0       1.0        3.0       1.0\n",
       "2001     92.0       NaN        1.0       NaN\n",
       "2002     84.0       1.0        2.0       NaN\n",
       "2003     74.0       NaN        NaN       NaN"
      ]
     },
     "execution_count": 92,
     "metadata": {},
     "output_type": "execute_result"
    }
   ],
   "source": [
    "guests_per_group_hor.iloc[1:5, 1:5]"
   ]
  },
  {
   "cell_type": "code",
   "execution_count": 93,
   "metadata": {
    "collapsed": false
   },
   "outputs": [
    {
     "data": {
      "text/plain": [
       "<matplotlib.axes._subplots.AxesSubplot at 0x11444fa90>"
      ]
     },
     "execution_count": 93,
     "metadata": {},
     "output_type": "execute_result"
    },
    {
     "data": {
      "image/png": "[encoded data removed]",
      "text/plain": [
       "<matplotlib.figure.Figure at 0x114474710>"
      ]
     },
     "metadata": {},
     "output_type": "display_data"
    }
   ],
   "source": [
    "guests_per_group_hor.plot()"
   ]
  },
  {
   "cell_type": "markdown",
   "metadata": {},
   "source": [
    "Muyueh: 重新做前一天做失敗的折線圖。所以 matplot 做折線圖的方式，是連續呼叫兩次。或是把資料整理成「寬」的 pivot table，然後呼叫一次 .plot()。"
   ]
  },
  {
   "cell_type": "markdown",
   "metadata": {},
   "source": [
    "### Top groups"
   ]
  },
  {
   "cell_type": "code",
   "execution_count": 115,
   "metadata": {
    "collapsed": false
   },
   "outputs": [
    {
     "data": {
      "text/plain": [
       "Index(['Acting', 'Media', 'Politician', 'Comedy', 'Musician'], dtype='object', name='Group')"
      ]
     },
     "execution_count": 115,
     "metadata": {},
     "output_type": "execute_result"
    }
   ],
   "source": [
    "groups_most_frequent.head(5).index"
   ]
  },
  {
   "cell_type": "code",
   "execution_count": 121,
   "metadata": {
    "collapsed": false
   },
   "outputs": [
    {
     "data": {
      "text/plain": [
       "<matplotlib.axes._subplots.AxesSubplot at 0x1146230b8>"
      ]
     },
     "execution_count": 121,
     "metadata": {},
     "output_type": "execute_result"
    },
    {
     "data": {
      "image/png": "[encoded data removed]",
      "text/plain": [
       "<matplotlib.figure.Figure at 0x11475e828>"
      ]
     },
     "metadata": {},
     "output_type": "display_data"
    }
   ],
   "source": [
    "guests_per_group_hor.loc[:, groups_most_frequent.head(5).index].plot()"
   ]
  },
  {
   "cell_type": "code",
   "execution_count": null,
   "metadata": {
    "collapsed": true
   },
   "outputs": [],
   "source": []
  },
  {
   "cell_type": "markdown",
   "metadata": {},
   "source": [
    "## number of groups per year (diversity)"
   ]
  },
  {
   "cell_type": "code",
   "execution_count": 102,
   "metadata": {
    "collapsed": false
   },
   "outputs": [
    {
     "data": {
      "text/plain": [
       "YEAR\n",
       "1999     5\n",
       "2000     9\n",
       "2001    11\n",
       "2002    12\n",
       "2003    12\n",
       "2004    14\n",
       "2005    14\n",
       "2006    14\n",
       "2007    16\n",
       "2008    14\n",
       "2009    16\n",
       "2010    15\n",
       "2011    16\n",
       "2012    15\n",
       "2013    14\n",
       "2014    14\n",
       "2015    13\n",
       "Name: Group, dtype: int64"
      ]
     },
     "execution_count": 102,
     "metadata": {},
     "output_type": "execute_result"
    }
   ],
   "source": [
    "guests.pivot_table(index='YEAR', values='Group', aggfunc=pd.Series.nunique)"
   ]
  },
  {
   "cell_type": "markdown",
   "metadata": {},
   "source": [
    "Verify..."
   ]
  },
  {
   "cell_type": "code",
   "execution_count": 110,
   "metadata": {
    "collapsed": false
   },
   "outputs": [
    {
     "data": {
      "text/plain": [
       "Acting        108\n",
       "Comedy         25\n",
       "Musician       17\n",
       "Media          11\n",
       "Politician      2\n",
       "Name: Group, dtype: int64"
      ]
     },
     "execution_count": 110,
     "metadata": {},
     "output_type": "execute_result"
    }
   ],
   "source": [
    "guests[(guests['YEAR'] == 1999)]['Group'].value_counts()"
   ]
  },
  {
   "cell_type": "code",
   "execution_count": 112,
   "metadata": {
    "collapsed": false
   },
   "outputs": [
    {
     "data": {
      "text/plain": [
       "Acting            100\n",
       "Media              21\n",
       "Musician           13\n",
       "Politician         13\n",
       "Comedy             12\n",
       "Athletics           3\n",
       "Business            1\n",
       "Political Aide      1\n",
       "Advocacy            1\n",
       "Name: Group, dtype: int64"
      ]
     },
     "execution_count": 112,
     "metadata": {},
     "output_type": "execute_result"
    }
   ],
   "source": [
    "guests[(guests['YEAR'] == 2000)]['Group'].value_counts()"
   ]
  },
  {
   "cell_type": "code",
   "execution_count": 111,
   "metadata": {
    "collapsed": false
   },
   "outputs": [
    {
     "data": {
      "text/plain": [
       "Acting            33\n",
       "Media             24\n",
       "Politician        14\n",
       "Comedy             7\n",
       "Musician           5\n",
       "Political Aide     3\n",
       "Misc               3\n",
       "Athletics          3\n",
       "Advocacy           3\n",
       "Academic           2\n",
       "Military           1\n",
       "Business           1\n",
       "Science            1\n",
       "Name: Group, dtype: int64"
      ]
     },
     "execution_count": 111,
     "metadata": {},
     "output_type": "execute_result"
    }
   ],
   "source": [
    "guests[(guests['YEAR'] == 2015)]['Group'].value_counts()"
   ]
  },
  {
   "cell_type": "code",
   "execution_count": 123,
   "metadata": {
    "collapsed": false
   },
   "outputs": [
    {
     "data": {
      "text/plain": [
       "<matplotlib.axes._subplots.AxesSubplot at 0x114871710>"
      ]
     },
     "execution_count": 123,
     "metadata": {},
     "output_type": "execute_result"
    },
    {
     "data": {
      "image/png": "[encoded data removed]",
      "text/plain": [
       "<matplotlib.figure.Figure at 0x11464d9e8>"
      ]
     },
     "metadata": {},
     "output_type": "display_data"
    }
   ],
   "source": [
    "guests.pivot_table(index='YEAR', values='Group', aggfunc=pd.Series.nunique).plot(title='Number of guest groups by year')"
   ]
  },
  {
   "cell_type": "markdown",
   "metadata": {},
   "source": [
    "# TODO: time when a group first appear"
   ]
  }
 ],
 "metadata": {
  "anaconda-cloud": {},
  "kernelspec": {
   "display_name": "Python [conda env:data-viz]",
   "language": "python",
   "name": "conda-env-data-viz-py"
  },
  "language_info": {
   "codemirror_mode": {
    "name": "ipython",
    "version": 3
   },
   "file_extension": ".py",
   "mimetype": "text/x-python",
   "name": "python",
   "nbconvert_exporter": "python",
   "pygments_lexer": "ipython3",
   "version": "3.5.2"
  }
 },
 "nbformat": 4,
 "nbformat_minor": 2
}
